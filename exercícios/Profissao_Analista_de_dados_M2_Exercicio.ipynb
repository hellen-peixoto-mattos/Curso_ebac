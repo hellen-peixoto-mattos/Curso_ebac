{
  "nbformat": 4,
  "nbformat_minor": 0,
  "metadata": {
    "colab": {
      "provenance": [],
      "toc_visible": true
    },
    "kernelspec": {
      "name": "python3",
      "display_name": "Python 3"
    }
  },
  "cells": [
    {
      "cell_type": "markdown",
      "metadata": {
        "id": "KJqp9AANOCtf"
      },
      "source": [
        "<img src=\"https://raw.githubusercontent.com/andre-marcos-perez/ebac-course-utils/main/media/logo/newebac_logo_black_half.png\" alt=\"ebac-logo\">\n",
        "\n",
        "---\n",
        "\n",
        "# **Módulo** | Python: Estruturas de Dados\n",
        "Caderno de **Exercícios**<br>\n",
        "Professor [André Perez](https://www.linkedin.com/in/andremarcosperez/)\n",
        "\n",
        "---"
      ]
    },
    {
      "cell_type": "markdown",
      "metadata": {
        "id": "d9jDtUbDOE1-"
      },
      "source": [
        "# **Tópicos**\n",
        "\n",
        "<ol type=\"1\">\n",
        "  <li>Listas;</li>\n",
        "  <li>Conjuntos;</li>\n",
        "  <li>Dicionários.</li>\n",
        "</ol>"
      ]
    },
    {
      "cell_type": "markdown",
      "metadata": {
        "id": "SmoHgt-lwkpD"
      },
      "source": [
        "---"
      ]
    },
    {
      "cell_type": "markdown",
      "metadata": {
        "id": "GABI6OW8OfQ2"
      },
      "source": [
        "# **Exercícios**"
      ]
    },
    {
      "cell_type": "markdown",
      "metadata": {
        "id": "muD1vxozykSC"
      },
      "source": [
        "## 1\\. Listas"
      ]
    },
    {
      "cell_type": "markdown",
      "metadata": {
        "id": "ahrFfCuBxJKs"
      },
      "source": [
        "Criei uma lista chamada `filmes` com o nome dos 10 primeiros filmes mais bem avaliados no site no [IMDB](https://www.imdb.com/chart/top/). Imprima o resultado."
      ]
    },
    {
      "cell_type": "code",
      "metadata": {
        "id": "OgL6Hv3bzOHI",
        "colab": {
          "base_uri": "https://localhost:8080/"
        },
        "outputId": "a1428982-9d77-49ec-9568-08a3e6e73042"
      },
      "source": [
        "filmes = ['Um Sonho de Liberdade','O Poderoso Chefão','Batman-O Cavaleiro das Trevas','O Poderoso Chefão 2','12 Homens e uma Sentença','A Lista de Schindler','O Senhor dos Aneis:O Retorno do Rei','Pulp Fiction:Tempo de Violencia','O Senhor dos Aneis:O Sociedade do Anel','Tres Homens em Conflito']\n",
        "print(filmes)\n",
        "print(type(filmes))"
      ],
      "execution_count": null,
      "outputs": [
        {
          "output_type": "stream",
          "name": "stdout",
          "text": [
            "['Um Sonho de Liberdade', 'O Poderoso Chefão', 'Batman-O Cavaleiro das Trevas', 'O Poderoso Chefão 2', '12 Homens e uma Sentença', 'A Lista de Schindler', 'O Senhor dos Aneis:O Retorno do Rei', 'Pulp Fiction:Tempo de Violencia', 'O Senhor dos Aneis:O Sociedade do Anel', 'Tres Homens em Conflito']\n",
            "<class 'list'>\n"
          ]
        }
      ]
    },
    {
      "cell_type": "markdown",
      "metadata": {
        "id": "KI9zQRT2xa7m"
      },
      "source": [
        "Simule a movimentação do *ranking*. Utilize os métodos `insert` e `pop` para trocar a posição do primeiro e do segundo filme da lista. Imprima o resultado.\n",
        "\n"
      ]
    },
    {
      "cell_type": "code",
      "metadata": {
        "id": "zX3mA3_GzrXH",
        "colab": {
          "base_uri": "https://localhost:8080/"
        },
        "outputId": "81005142-aa1e-4b5c-8649-9bcd3c8eb85d"
      },
      "source": [
        "segundo_filme = filmes.pop(1)\n",
        "filmes.insert(0,segundo_filme)\n",
        "print(filmes)"
      ],
      "execution_count": null,
      "outputs": [
        {
          "output_type": "stream",
          "name": "stdout",
          "text": [
            "['O Poderoso Chefão', 'Um Sonho de Liberdade', 'Batman-O Cavaleiro das Trevas', 'O Poderoso Chefão 2', '12 Homens e uma Sentença', 'A Lista de Schindler', 'O Senhor dos Aneis:O Retorno do Rei', 'Pulp Fiction:Tempo de Violencia', 'O Senhor dos Aneis:O Sociedade do Anel', 'Tres Homens em Conflito']\n"
          ]
        }
      ]
    },
    {
      "cell_type": "markdown",
      "metadata": {
        "id": "zMN1Q3jdwoJm"
      },
      "source": [
        "---"
      ]
    },
    {
      "cell_type": "markdown",
      "metadata": {
        "id": "lxa5L6uF0ZJE"
      },
      "source": [
        "## 2\\. Conjuntos"
      ]
    },
    {
      "cell_type": "markdown",
      "metadata": {
        "id": "9JahS2Kj0d5u"
      },
      "source": [
        "Aconteceu um erro no seu *ranking*. Simule a duplicação dos três últimos filmes da lista. Imprima o resultado."
      ]
    },
    {
      "cell_type": "code",
      "source": [
        "duplicados = filmes[-3:].copy()\n",
        "filmes.extend(duplicados)\n",
        "print(filmes)\n",
        "print(len(filmes))\n"
      ],
      "metadata": {
        "colab": {
          "base_uri": "https://localhost:8080/"
        },
        "id": "LQAEQkYHs2FB",
        "outputId": "074b3a8e-02f3-41e1-e4d5-e8c665fa2b03"
      },
      "execution_count": null,
      "outputs": [
        {
          "output_type": "stream",
          "name": "stdout",
          "text": [
            "['O Poderoso Chefão', 'Um Sonho de Liberdade', 'Batman-O Cavaleiro das Trevas', 'O Poderoso Chefão 2', '12 Homens e uma Sentença', 'A Lista de Schindler', 'O Senhor dos Aneis:O Retorno do Rei', 'Pulp Fiction:Tempo de Violencia', 'O Senhor dos Aneis:O Sociedade do Anel', 'Tres Homens em Conflito', 'Pulp Fiction:Tempo de Violencia', 'O Senhor dos Aneis:O Sociedade do Anel', 'Tres Homens em Conflito']\n",
            "13\n"
          ]
        }
      ]
    },
    {
      "cell_type": "markdown",
      "metadata": {
        "id": "suxTfCJB6ZiX"
      },
      "source": [
        "Utiliza a conversão `set` e `list` para remover os valores duplicados. Imprima o resultado."
      ]
    },
    {
      "cell_type": "code",
      "source": [
        "meu_set = set(filmes)\n",
        "print(meu_set)\n",
        "print(len(meu_set))"
      ],
      "metadata": {
        "colab": {
          "base_uri": "https://localhost:8080/"
        },
        "id": "cb3-ZY3Wv1Rv",
        "outputId": "27109574-4bcf-4e05-bd65-ebaa1f5d0286"
      },
      "execution_count": null,
      "outputs": [
        {
          "output_type": "stream",
          "name": "stdout",
          "text": [
            "{'Tres Homens em Conflito', 'Batman-O Cavaleiro das Trevas', 'O Poderoso Chefão', 'O Poderoso Chefão 2', 'Um Sonho de Liberdade', '12 Homens e uma Sentença', 'A Lista de Schindler', 'O Senhor dos Aneis:O Sociedade do Anel', 'O Senhor dos Aneis:O Retorno do Rei', 'Pulp Fiction:Tempo de Violencia'}\n",
            "10\n"
          ]
        }
      ]
    },
    {
      "cell_type": "markdown",
      "metadata": {
        "id": "ShkK35eQ6pAM"
      },
      "source": [
        "---"
      ]
    },
    {
      "cell_type": "markdown",
      "metadata": {
        "id": "EL_FzmxL6rTv"
      },
      "source": [
        "## 3\\. Dicionários"
      ]
    },
    {
      "cell_type": "markdown",
      "metadata": {
        "id": "i8l0gFqRCpfT"
      },
      "source": [
        "Repita os exercícios da parte 1 (listas). Os elementos da lista `filmes` devem ser dicionários no seguinte formato: `{'nome': <nome-do-filme>, 'ano': <ano do filme>, 'sinopse': <sinopse do filme>}`."
      ]
    },
    {
      "cell_type": "code",
      "metadata": {
        "id": "tu6MSFwGDnHv"
      },
      "source": [
        "filmes=     [{'nome': 'Um Sonho de Liberdade', 'ano':'1994', 'sinopse':'Dois homens presos se reúnem ao longo de vários anos, encontrando consolo e eventual redenção através de atos de decência comum.'},\n",
        "             {'nome': 'O Poderoso Chefão','ano':'1972','sinopse':'O patriarca idoso de uma dinastia do crime organizado transfere o controle de seu império clandestino para seu filho relutante.'},\n",
        "             {'nome': 'Batman-O Cavaleiro das Trevas', 'ano':'2008','sinopse':'Agora com a ajuda do tenente Jim Gordon e do promotor público Harvey Dent, Batman tem tudo para banir o crime de Gotham City de uma vez por todas. Mas em breve, os três serão vítimas do Coringa, que pretende lançar Gotham em uma anarquia.'},\n",
        "             {'nome': 'O Poderoso Chefão 2', 'ano':'1974',  'sinopse':'Em 1950, Michael Corleone, agora à frente da família, tenta expandir o negócio do crime a Las Vegas, Los Angeles e Cuba. Paralelamente, é revelada a história de Vito Corleone, e de como saiu da Sicília e chegou a Nova Iorque.'},\n",
        "             {'nome': '12 Homens e uma Sentença', 'ano':'1957' ,'sinopse':'O julgamento de um assassinato em Nova Iorque é frustrado por um único membro, cujo ceticismo força o júri a considerar cuidadosamente as evidências antes de dar o veredito.'},\n",
        "             {'nome': 'A Lista de Schindler', 'ano':'1993', 'sinopse':'Na Polônia ocupada pelos alemães durante a Segunda Guerra Mundial, o industrial Oskar Schindler começa a ser preocupar com seus trabalhadores judeus depois de testemunhar sua perseguição pelos nazistas.'},\n",
        "             {'nome': 'O Senhor dos Aneis:O Retorno do Rei', 'ano':'2003', 'sinopse':'Gandalf e Aragorn lideram o Mundo dos Homens contra o exército de Sauron para desviar o olhar de Frodo e Sam quando eles se aproximam á Montanha da Perdição com o Um Anel.'},\n",
        "             {'nome': 'Pulp Fiction:Tempo de Violencia', 'ano':'1994', 'sinopse':'As vidas de dois assassinos da máfia, um boxeador, um gângster e sua esposa, e um par de bandidos se entrelaçam em quatro histórias de violência e redenção.'},\n",
        "             {'nome': 'O Senhor dos Aneis:O Sociedade do Anel', 'ano':'2001', 'sinopse':'Um manso hobbit do Condado e oito companheiros partem em uma jornada para destruir o poderoso Um Anel e salvar a Terra-média das Trevas.'},\n",
        "             {'nome': 'Tres Homens em Conflito', 'ano':'1966' , 'sinopse':'Um impostor se junta com dois homens para encontrar fortuna num remoto cemitério.'}]"
      ],
      "execution_count": null,
      "outputs": []
    },
    {
      "cell_type": "code",
      "source": [
        "print(filmes)"
      ],
      "metadata": {
        "colab": {
          "base_uri": "https://localhost:8080/"
        },
        "id": "XyOvWKy4-43e",
        "outputId": "2c4f6037-cbc4-4fd8-929d-aa91e4f9c048"
      },
      "execution_count": null,
      "outputs": [
        {
          "output_type": "stream",
          "name": "stdout",
          "text": [
            "[{'nome': 'Um Sonho de Liberdade', 'ano': '1994', 'sinopse': 'Dois homens presos se reúnem ao longo de vários anos, encontrando consolo e eventual redenção através de atos de decência comum.'}, {'nome': 'O Poderoso Chefão', 'ano': '1972', 'sinopse': 'O patriarca idoso de uma dinastia do crime organizado transfere o controle de seu império clandestino para seu filho relutante.'}, {'nome': 'Batman-O Cavaleiro das Trevas', 'ano': '2008', 'sinopse': 'Agora com a ajuda do tenente Jim Gordon e do promotor público Harvey Dent, Batman tem tudo para banir o crime de Gotham City de uma vez por todas. Mas em breve, os três serão vítimas do Coringa, que pretende lançar Gotham em uma anarquia.'}, {'nome': 'O Poderoso Chefão 2', 'ano': '1974', 'sinopse': 'Em 1950, Michael Corleone, agora à frente da família, tenta expandir o negócio do crime a Las Vegas, Los Angeles e Cuba. Paralelamente, é revelada a história de Vito Corleone, e de como saiu da Sicília e chegou a Nova Iorque.'}, {'nome': '12 Homens e uma Sentença', 'ano': '1957', 'sinopse': 'O julgamento de um assassinato em Nova Iorque é frustrado por um único membro, cujo ceticismo força o júri a considerar cuidadosamente as evidências antes de dar o veredito.'}, {'nome': 'A Lista de Schindler', 'ano': '1993', 'sinopse': 'Na Polônia ocupada pelos alemães durante a Segunda Guerra Mundial, o industrial Oskar Schindler começa a ser preocupar com seus trabalhadores judeus depois de testemunhar sua perseguição pelos nazistas.'}, {'nome': 'O Senhor dos Aneis:O Retorno do Rei', 'ano': '2003', 'sinopse': 'Gandalf e Aragorn lideram o Mundo dos Homens contra o exército de Sauron para desviar o olhar de Frodo e Sam quando eles se aproximam á Montanha da Perdição com o Um Anel.'}, {'nome': 'Pulp Fiction:Tempo de Violencia', 'ano': '1994', 'sinopse': 'As vidas de dois assassinos da máfia, um boxeador, um gângster e sua esposa, e um par de bandidos se entrelaçam em quatro histórias de violência e redenção.'}, {'nome': 'O Senhor dos Aneis:O Sociedade do Anel', 'ano': '2001', 'sinopse': 'Um manso hobbit do Condado e oito companheiros partem em uma jornada para destruir o poderoso Um Anel e salvar a Terra-média das Trevas.'}, {'nome': 'Tres Homens em Conflito', 'ano': '1966', 'sinopse': 'Um impostor se junta com dois homens para encontrar fortuna num remoto cemitério.'}]\n"
          ]
        }
      ]
    }
  ]
}